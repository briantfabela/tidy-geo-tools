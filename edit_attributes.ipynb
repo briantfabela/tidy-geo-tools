{
 "cells": [
  {
   "cell_type": "code",
   "execution_count": 1,
   "metadata": {},
   "outputs": [],
   "source": [
    "import geopandas as gpd\n",
    "\n",
    "# Load the shapefile\n",
    "gdf = gpd.read_file('New_2022_Voting_Precincts/New_2022_Voting_Precincts.shp')"
   ]
  },
  {
   "cell_type": "code",
   "execution_count": 2,
   "metadata": {},
   "outputs": [
    {
     "name": "stdout",
     "output_type": "stream",
     "text": [
      "Index(['precinctid', 'name', 'county', 'pollingid', 'GlobalID', 'CreationDa',\n",
      "       'Creator', 'EditDate', 'Editor', 'Status', 'Creation_1', 'Creator_1',\n",
      "       'EditDate_1', 'Editor_1', 'geometry'],\n",
      "      dtype='object')\n"
     ]
    }
   ],
   "source": [
    "# Get the list of attribute table fields (columns)\n",
    "fields = gdf.columns\n",
    "\n",
    "# Print the fields\n",
    "print(fields)"
   ]
  },
  {
   "cell_type": "code",
   "execution_count": 3,
   "metadata": {},
   "outputs": [
    {
     "name": "stdout",
     "output_type": "stream",
     "text": [
      "  precinctid      name    county                             pollingid  \\\n",
      "0     121004  Calexico  Imperial  831a6aa5-be5d-470c-b780-b9d7879764c8   \n",
      "1     121008  Calexico  Imperial  831a6aa5-be5d-470c-b780-b9d7879764c8   \n",
      "2     121007  Calexico  Imperial  565f0c17-1332-4f77-b2bf-ee241fc1bf96   \n",
      "3     121006  Calexico  Imperial  565f0c17-1332-4f77-b2bf-ee241fc1bf96   \n",
      "4     121005  Calexico  Imperial  831a6aa5-be5d-470c-b780-b9d7879764c8   \n",
      "5     221021  Calexico  Imperial  42c56cf7-44bc-409d-96b3-7be96eb883ae   \n",
      "6     121009  Calexico  Imperial  42c56cf7-44bc-409d-96b3-7be96eb883ae   \n",
      "7     121013  Calexico  Imperial  b8c853be-b3b4-4cda-aac6-d144426b0242   \n",
      "8     121016  Calexico  Imperial  90374e06-5750-4ece-8751-964336353f8b   \n",
      "9     121014  Calexico  Imperial  b8c853be-b3b4-4cda-aac6-d144426b0242   \n",
      "\n",
      "                               GlobalID CreationDa          Creator  \\\n",
      "0  472c187e-3d52-4c94-be0a-b618fe8b1b15 2021-08-12  ic-briantfabela   \n",
      "1  981d90db-4527-4cb1-a74d-ae17eeb197ca 2021-08-12  ic-briantfabela   \n",
      "2  0c2e351c-f6d0-4869-80a6-adf1e889b4fd 2021-08-12  ic-briantfabela   \n",
      "3  a7dc658d-6d2c-4160-a684-ee8272cc4729 2021-08-12  ic-briantfabela   \n",
      "4  4ef7c297-45f8-4ec7-9da6-9935639c89da 2021-08-12  ic-briantfabela   \n",
      "5  01edb2d5-5357-4275-8147-0ec24923bbcb 2021-08-12  ic-briantfabela   \n",
      "6  6839bfd2-417f-43e2-b06a-612994ee8539 2021-08-12  ic-briantfabela   \n",
      "7  e85af639-32e0-4960-a8f5-38e821822259 2021-08-12  ic-briantfabela   \n",
      "8  cf94c3cf-fffa-4c22-bbd5-8f0bbb4aea9c 2021-08-12  ic-briantfabela   \n",
      "9  98437453-b6c0-45ff-aa15-e0cd1ebd4eb5 2021-08-12  ic-briantfabela   \n",
      "\n",
      "    EditDate           Editor      Status Creation_1        Creator_1  \\\n",
      "0 2021-08-16  ic-briantfabela    Complete 2022-10-31  ic-briantfabela   \n",
      "1 2021-08-16  ic-briantfabela    Complete 2022-10-31  ic-briantfabela   \n",
      "2 2021-08-16  ic-briantfabela    Complete 2022-10-31  ic-briantfabela   \n",
      "3 2021-08-16  ic-briantfabela    Complete 2022-10-31  ic-briantfabela   \n",
      "4 2021-08-16  ic-briantfabela    Complete 2022-10-31  ic-briantfabela   \n",
      "5 2021-08-16  ic-briantfabela    Complete 2022-10-31  ic-briantfabela   \n",
      "6 2021-08-16  ic-briantfabela    Complete 2022-10-31  ic-briantfabela   \n",
      "7 2021-08-16  ic-briantfabela  Incomplete 2022-10-31  ic-briantfabela   \n",
      "8 2021-08-16  ic-briantfabela    Complete 2022-10-31  ic-briantfabela   \n",
      "9 2021-08-16  ic-briantfabela  Incomplete 2022-10-31  ic-briantfabela   \n",
      "\n",
      "  EditDate_1         Editor_1  \\\n",
      "0 2022-10-31  ic-briantfabela   \n",
      "1 2022-10-31  ic-briantfabela   \n",
      "2 2022-10-31  ic-briantfabela   \n",
      "3 2022-10-31  ic-briantfabela   \n",
      "4 2022-10-31  ic-briantfabela   \n",
      "5 2022-10-31  ic-briantfabela   \n",
      "6 2022-10-31  ic-briantfabela   \n",
      "7 2022-10-31  ic-briantfabela   \n",
      "8 2022-10-31  ic-briantfabela   \n",
      "9 2022-10-31  ic-briantfabela   \n",
      "\n",
      "                                            geometry  \n",
      "0  POLYGON ((6783498.585 1822660.014, 6783482.086...  \n",
      "1  POLYGON ((6789182.084 1826254.389, 6788602.084...  \n",
      "2  POLYGON ((6787093.084 1827676.889, 6787537.084...  \n",
      "3  POLYGON ((6790027.584 1830013.139, 6788755.584...  \n",
      "4  POLYGON ((6792853.584 1827705.015, 6792815.583...  \n",
      "5  POLYGON ((6792276.196 1838477.616, 6792180.374...  \n",
      "6  POLYGON ((6792890.315 1822905.037, 6793101.584...  \n",
      "7  POLYGON ((6797853.583 1823519.765, 6797853.583...  \n",
      "8  POLYGON ((6797853.583 1823606.139, 6797853.583...  \n",
      "9  POLYGON ((6796058.584 1825479.515, 6796056.083...  \n"
     ]
    }
   ],
   "source": [
    "print(gdf.head(10))"
   ]
  },
  {
   "cell_type": "code",
   "execution_count": 4,
   "metadata": {},
   "outputs": [
    {
     "name": "stdout",
     "output_type": "stream",
     "text": [
      "  precinctid      name    county  \\\n",
      "0     121004  Calexico  Imperial   \n",
      "1     121008  Calexico  Imperial   \n",
      "2     121007  Calexico  Imperial   \n",
      "3     121006  Calexico  Imperial   \n",
      "4     121005  Calexico  Imperial   \n",
      "5     221021  Calexico  Imperial   \n",
      "6     121009  Calexico  Imperial   \n",
      "7     121013  Calexico  Imperial   \n",
      "8     121016  Calexico  Imperial   \n",
      "9     121014  Calexico  Imperial   \n",
      "\n",
      "                                            geometry  \n",
      "0  POLYGON ((6783498.585 1822660.014, 6783482.086...  \n",
      "1  POLYGON ((6789182.084 1826254.389, 6788602.084...  \n",
      "2  POLYGON ((6787093.084 1827676.889, 6787537.084...  \n",
      "3  POLYGON ((6790027.584 1830013.139, 6788755.584...  \n",
      "4  POLYGON ((6792853.584 1827705.015, 6792815.583...  \n",
      "5  POLYGON ((6792276.196 1838477.616, 6792180.374...  \n",
      "6  POLYGON ((6792890.315 1822905.037, 6793101.584...  \n",
      "7  POLYGON ((6797853.583 1823519.765, 6797853.583...  \n",
      "8  POLYGON ((6797853.583 1823606.139, 6797853.583...  \n",
      "9  POLYGON ((6796058.584 1825479.515, 6796056.083...  \n"
     ]
    }
   ],
   "source": [
    "# Drop unwanted columns\n",
    "gdf = gdf.drop(columns=['pollingid', 'GlobalID', 'CreationDa',\n",
    "       'Creator', 'EditDate', 'Editor', 'Status', 'Creation_1', 'Creator_1',\n",
    "       'EditDate_1', 'Editor_1'])\n",
    "\n",
    "print(gdf.head(10))"
   ]
  },
  {
   "cell_type": "code",
   "execution_count": 5,
   "metadata": {},
   "outputs": [],
   "source": [
    "# Save the edited shapefile\n",
    "gdf.to_file('Imperial_County_Voting_Precincts_2024.shp')"
   ]
  }
 ],
 "metadata": {
  "kernelspec": {
   "display_name": "Python 3",
   "language": "python",
   "name": "python3"
  },
  "language_info": {
   "codemirror_mode": {
    "name": "ipython",
    "version": 3
   },
   "file_extension": ".py",
   "mimetype": "text/x-python",
   "name": "python",
   "nbconvert_exporter": "python",
   "pygments_lexer": "ipython3",
   "version": "3.12.1"
  }
 },
 "nbformat": 4,
 "nbformat_minor": 2
}
